{
 "cells": [
  {
   "cell_type": "code",
   "execution_count": 1,
   "metadata": {},
   "outputs": [],
   "source": [
    "from math import *\n",
    "import matplotlib.pyplot as plt\n",
    "from numpy import *\n",
    "import random as ran"
   ]
  },
  {
   "cell_type": "code",
   "execution_count": 2,
   "metadata": {},
   "outputs": [],
   "source": [
    "data = loadtxt(\"population.txt\")"
   ]
  },
  {
   "cell_type": "code",
   "execution_count": 3,
   "metadata": {},
   "outputs": [],
   "source": [
    "#print(data)"
   ]
  },
  {
   "cell_type": "code",
   "execution_count": 4,
   "metadata": {},
   "outputs": [],
   "source": [
    "rank = data[:,0]\n",
    "pop = data[:,1]"
   ]
  },
  {
   "cell_type": "code",
   "execution_count": 5,
   "metadata": {},
   "outputs": [
    {
     "data": {
      "text/plain": [
       "[<matplotlib.lines.Line2D at 0x10517f828>]"
      ]
     },
     "execution_count": 5,
     "metadata": {},
     "output_type": "execute_result"
    },
    {
     "data": {
      "image/png": "[encoded data removed]",
      "text/plain": [
       "<Figure size 432x288 with 1 Axes>"
      ]
     },
     "metadata": {},
     "output_type": "display_data"
    }
   ],
   "source": [
    "plt.plot(rank, pop, \"ro\")"
   ]
  },
  {
   "cell_type": "code",
   "execution_count": 6,
   "metadata": {},
   "outputs": [
    {
     "data": {
      "text/plain": [
       "[<matplotlib.lines.Line2D at 0x10521ccf8>]"
      ]
     },
     "execution_count": 6,
     "metadata": {},
     "output_type": "execute_result"
    },
    {
     "data": {
      "image/png": "[encoded data removed]",
      "text/plain": [
       "<Figure size 432x288 with 1 Axes>"
      ]
     },
     "metadata": {},
     "output_type": "display_data"
    }
   ],
   "source": [
    "plt.plot(log(rank), log(pop), \"ro\")"
   ]
  },
  {
   "cell_type": "code",
   "execution_count": 7,
   "metadata": {},
   "outputs": [],
   "source": [
    "m, c = polyfit(log(rank), log(pop), 1)"
   ]
  },
  {
   "cell_type": "code",
   "execution_count": 8,
   "metadata": {},
   "outputs": [
    {
     "data": {
      "text/plain": [
       "[<matplotlib.lines.Line2D at 0x1051e98d0>]"
      ]
     },
     "execution_count": 8,
     "metadata": {},
     "output_type": "execute_result"
    },
    {
     "data": {
      "image/png": "[encoded data removed]",
      "text/plain": [
       "<Figure size 432x288 with 1 Axes>"
      ]
     },
     "metadata": {},
     "output_type": "display_data"
    }
   ],
   "source": [
    "plt.plot(log(rank), log(pop), \"ro\")\n",
    "plt.plot(log(rank), log(rank)*m + c, 'b')"
   ]
  },
  {
   "cell_type": "code",
   "execution_count": 9,
   "metadata": {},
   "outputs": [],
   "source": [
    "x = log(rank)\n",
    "y = log(pop)\n",
    "n = len(rank)\n",
    "r = ( n*sum(x*y) - sum(x)*sum(y) ) / sqrt ( n*sum(x*x) - sum(x)*sum(x)) / sqrt ( n*sum(y*y) - sum(y)*sum(y) ) "
   ]
  },
  {
   "cell_type": "code",
   "execution_count": 10,
   "metadata": {},
   "outputs": [
    {
     "name": "stdout",
     "output_type": "stream",
     "text": [
      "-0.9903401338553842\n"
     ]
    }
   ],
   "source": [
    "print(r)"
   ]
  },
  {
   "cell_type": "code",
   "execution_count": 11,
   "metadata": {},
   "outputs": [],
   "source": [
    "X = linspace(0, 10, 50)\n",
    "Y = []\n",
    "\n",
    "for i in range(0, 50):\n",
    "    Y += [ran.random()]"
   ]
  },
  {
   "cell_type": "code",
   "execution_count": 12,
   "metadata": {},
   "outputs": [],
   "source": [
    "n = len(X)\n",
    "Y = array(Y)\n",
    "r = ( n*sum(X*Y) - sum(X)*sum(Y) ) / sqrt ( n*sum(X*X) - sum(X)*sum(X)) / sqrt ( n*sum(Y*Y) - sum(Y)*sum(Y) ) "
   ]
  },
  {
   "cell_type": "code",
   "execution_count": 13,
   "metadata": {},
   "outputs": [
    {
     "name": "stdout",
     "output_type": "stream",
     "text": [
      "-0.09488665505640882\n"
     ]
    }
   ],
   "source": [
    "print(r)"
   ]
  },
  {
   "cell_type": "code",
   "execution_count": 14,
   "metadata": {},
   "outputs": [
    {
     "name": "stdout",
     "output_type": "stream",
     "text": [
      "[0, 1, 4, 9, 16, 25, 36, 49, 64, 81]\n"
     ]
    }
   ],
   "source": [
    "print([x*x for x in range(10)])"
   ]
  },
  {
   "cell_type": "code",
   "execution_count": 15,
   "metadata": {},
   "outputs": [
    {
     "name": "stdout",
     "output_type": "stream",
     "text": [
      "[0, 4, 16, 36, 64]\n"
     ]
    }
   ],
   "source": [
    "aa = [x*x for x in range(10)]\n",
    "print([x for x in aa if x%2==0])"
   ]
  },
  {
   "cell_type": "code",
   "execution_count": 16,
   "metadata": {},
   "outputs": [
    {
     "name": "stdout",
     "output_type": "stream",
     "text": [
      "['Call', 'John', 'year']\n",
      "['CALL', 'ME', 'JOHN', 'A', 'YEAR', 'AGO']\n",
      "['Call', 'John', 'a', 'again', 'ago', 'me', 'year']\n"
     ]
    }
   ],
   "source": [
    "sentence1 = ['Call', 'me', 'John']\n",
    "sentence2 = ['a', 'year', 'ago']\n",
    "sentences = sentence1 + sentence2\n",
    "print ( [word for word in sentences if len( word ) >3] )\n",
    "print ( [word.upper() for word in sentences ] )\n",
    "sentences.append( 'again' )\n",
    "print ( sorted( sentences ) )\n"
   ]
  },
  {
   "cell_type": "code",
   "execution_count": 17,
   "metadata": {},
   "outputs": [
    {
     "name": "stdout",
     "output_type": "stream",
     "text": [
      "{0, 1, 2, 3, 10}\n",
      "{10, 2, 3}\n",
      "{1, 2, 3, 10, 'banana', 'orange'}\n",
      "False\n"
     ]
    }
   ],
   "source": [
    "a = set( [0, 1, 2, 3, 2] )\n",
    "a.add( 10 )\n",
    "print(a)\n",
    "a.remove( 1 )\n",
    "b = set( [0, 1, 'orange', 'banana'] )\n",
    "set.intersection( a, b )\n",
    "set.union( a, b )\n",
    "set.difference( a, b )\n",
    "print(a - b)\n",
    "print(a ^ b)  # mutual exclusion\n",
    "print(a > set([1,2]))  # a is a superset of [1,2]\n"
   ]
  },
  {
   "cell_type": "code",
   "execution_count": 18,
   "metadata": {},
   "outputs": [
    {
     "name": "stdout",
     "output_type": "stream",
     "text": [
      "showing info https://raw.githubusercontent.com/nltk/nltk_data/gh-pages/index.xml\n"
     ]
    },
    {
     "data": {
      "text/plain": [
       "True"
      ]
     },
     "execution_count": 18,
     "metadata": {},
     "output_type": "execute_result"
    }
   ],
   "source": [
    "import nltk\n",
    "nltk.download()"
   ]
  },
  {
   "cell_type": "code",
   "execution_count": 19,
   "metadata": {},
   "outputs": [
    {
     "name": "stdout",
     "output_type": "stream",
     "text": [
      "*** Introductory Examples for the NLTK Book ***\n",
      "Loading text1, ..., text9 and sent1, ..., sent9\n",
      "Type the name of the text or sentence to view it.\n",
      "Type: 'texts()' or 'sents()' to list the materials.\n",
      "text1: Moby Dick by Herman Melville 1851\n",
      "text2: Sense and Sensibility by Jane Austen 1811\n",
      "text3: The Book of Genesis\n",
      "text4: Inaugural Address Corpus\n",
      "text5: Chat Corpus\n",
      "text6: Monty Python and the Holy Grail\n",
      "text7: Wall Street Journal\n",
      "text8: Personals Corpus\n",
      "text9: The Man Who Was Thursday by G . K . Chesterton 1908\n"
     ]
    }
   ],
   "source": [
    "from nltk.book import *"
   ]
  },
  {
   "cell_type": "code",
   "execution_count": 20,
   "metadata": {},
   "outputs": [
    {
     "name": "stdout",
     "output_type": "stream",
     "text": [
      "19\n",
      "906\n",
      "501\n"
     ]
    }
   ],
   "source": [
    "print ( text1.count( 'Ishmael' ) )\n",
    "print( text1.count( 'whale') )\n",
    "print( text1.count( 'Ahab' ) )\n"
   ]
  },
  {
   "cell_type": "code",
   "execution_count": 21,
   "metadata": {},
   "outputs": [
    {
     "data": {
      "text/plain": [
       "[<matplotlib.lines.Line2D at 0x112b456d8>]"
      ]
     },
     "execution_count": 21,
     "metadata": {},
     "output_type": "execute_result"
    },
    {
     "data": {
      "image/png": "[encoded data removed]",
      "text/plain": [
       "<Figure size 432x288 with 1 Axes>"
      ]
     },
     "metadata": {},
     "output_type": "display_data"
    }
   ],
   "source": [
    "freq1 = zeros( 100 )\n",
    "n = len( text1 )\n",
    "for i in range( 0, n ) :\n",
    "    if len( text1[i] )<100 :\n",
    "          freq1[ len( text1[i] ) ] +=1\n",
    "\n",
    "plt.plot( range(1,16), log(freq1[1:16]), 'ro')\n"
   ]
  },
  {
   "cell_type": "code",
   "execution_count": 22,
   "metadata": {},
   "outputs": [
    {
     "data": {
      "text/plain": [
       "['1789-Washington.txt',\n",
       " '1793-Washington.txt',\n",
       " '1797-Adams.txt',\n",
       " '1801-Jefferson.txt',\n",
       " '1805-Jefferson.txt',\n",
       " '1809-Madison.txt',\n",
       " '1813-Madison.txt',\n",
       " '1817-Monroe.txt',\n",
       " '1821-Monroe.txt',\n",
       " '1825-Adams.txt',\n",
       " '1829-Jackson.txt',\n",
       " '1833-Jackson.txt',\n",
       " '1837-VanBuren.txt',\n",
       " '1841-Harrison.txt',\n",
       " '1845-Polk.txt',\n",
       " '1849-Taylor.txt',\n",
       " '1853-Pierce.txt',\n",
       " '1857-Buchanan.txt',\n",
       " '1861-Lincoln.txt',\n",
       " '1865-Lincoln.txt',\n",
       " '1869-Grant.txt',\n",
       " '1873-Grant.txt',\n",
       " '1877-Hayes.txt',\n",
       " '1881-Garfield.txt',\n",
       " '1885-Cleveland.txt',\n",
       " '1889-Harrison.txt',\n",
       " '1893-Cleveland.txt',\n",
       " '1897-McKinley.txt',\n",
       " '1901-McKinley.txt',\n",
       " '1905-Roosevelt.txt',\n",
       " '1909-Taft.txt',\n",
       " '1913-Wilson.txt',\n",
       " '1917-Wilson.txt',\n",
       " '1921-Harding.txt',\n",
       " '1925-Coolidge.txt',\n",
       " '1929-Hoover.txt',\n",
       " '1933-Roosevelt.txt',\n",
       " '1937-Roosevelt.txt',\n",
       " '1941-Roosevelt.txt',\n",
       " '1945-Roosevelt.txt',\n",
       " '1949-Truman.txt',\n",
       " '1953-Eisenhower.txt',\n",
       " '1957-Eisenhower.txt',\n",
       " '1961-Kennedy.txt',\n",
       " '1965-Johnson.txt',\n",
       " '1969-Nixon.txt',\n",
       " '1973-Nixon.txt',\n",
       " '1977-Carter.txt',\n",
       " '1981-Reagan.txt',\n",
       " '1985-Reagan.txt',\n",
       " '1989-Bush.txt',\n",
       " '1993-Clinton.txt',\n",
       " '1997-Clinton.txt',\n",
       " '2001-Bush.txt',\n",
       " '2005-Bush.txt',\n",
       " '2009-Obama.txt']"
      ]
     },
     "execution_count": 22,
     "metadata": {},
     "output_type": "execute_result"
    }
   ],
   "source": [
    "from nltk.corpus import inaugural\n",
    "inaugural.fileids()\n"
   ]
  },
  {
   "cell_type": "code",
   "execution_count": 23,
   "metadata": {},
   "outputs": [
    {
     "data": {
      "image/png": "[encoded data removed]",
      "text/plain": [
       "<Figure size 432x288 with 1 Axes>"
      ]
     },
     "metadata": {},
     "output_type": "display_data"
    }
   ],
   "source": [
    "n = 1\n",
    "for i in inaugural.fileids():\n",
    "    plt.plot(n, len(set(inaugural.words(i))), 'o')\n",
    "    n += 1"
   ]
  },
  {
   "cell_type": "code",
   "execution_count": 24,
   "metadata": {},
   "outputs": [
    {
     "name": "stdout",
     "output_type": "stream",
     "text": [
      "1789-Washington.txt    1538\n",
      "1793-Washington.txt     147\n",
      "1797-Adams.txt         2585\n",
      "1801-Jefferson.txt     1935\n",
      "1805-Jefferson.txt     2384\n",
      "1809-Madison.txt       1265\n",
      "1813-Madison.txt       1304\n",
      "1817-Monroe.txt        3693\n",
      "1821-Monroe.txt        4909\n",
      "1825-Adams.txt         3150\n",
      "1829-Jackson.txt       1208\n",
      "1833-Jackson.txt       1267\n",
      "1837-VanBuren.txt      4171\n",
      "1841-Harrison.txt      9165\n",
      "1845-Polk.txt          5196\n",
      "1849-Taylor.txt        1182\n",
      "1853-Pierce.txt        3657\n",
      "1857-Buchanan.txt      3098\n",
      "1861-Lincoln.txt       4005\n",
      "1865-Lincoln.txt        785\n",
      "1869-Grant.txt         1239\n",
      "1873-Grant.txt         1478\n",
      "1877-Hayes.txt         2724\n",
      "1881-Garfield.txt      3239\n",
      "1885-Cleveland.txt     1828\n",
      "1889-Harrison.txt      4750\n",
      "1893-Cleveland.txt     2153\n",
      "1897-McKinley.txt      4371\n",
      "1901-McKinley.txt      2450\n",
      "1905-Roosevelt.txt     1091\n",
      "1909-Taft.txt          5846\n",
      "1913-Wilson.txt        1905\n",
      "1917-Wilson.txt        1656\n",
      "1921-Harding.txt       3756\n",
      "1925-Coolidge.txt      4442\n",
      "1929-Hoover.txt        3890\n",
      "1933-Roosevelt.txt     2063\n",
      "1937-Roosevelt.txt     2019\n",
      "1941-Roosevelt.txt     1536\n",
      "1945-Roosevelt.txt      637\n",
      "1949-Truman.txt        2528\n",
      "1953-Eisenhower.txt    2775\n",
      "1957-Eisenhower.txt    1917\n",
      "1961-Kennedy.txt       1546\n",
      "1965-Johnson.txt       1715\n",
      "1969-Nixon.txt         2425\n",
      "1973-Nixon.txt         2028\n",
      "1977-Carter.txt        1380\n",
      "1981-Reagan.txt        2801\n",
      "1985-Reagan.txt        2946\n",
      "1989-Bush.txt          2713\n",
      "1993-Clinton.txt       1855\n",
      "1997-Clinton.txt       2462\n",
      "2001-Bush.txt          1825\n",
      "2005-Bush.txt          2376\n",
      "2009-Obama.txt         2726\n",
      "dtype: int64\n"
     ]
    }
   ],
   "source": [
    "from pandas import *\n",
    "\n",
    "indexColumn = []\n",
    "valueColumn = []\n",
    "for speech in inaugural.fileids():\n",
    "    indexColumn+=[ speech ]\n",
    "    valueColumn+=[ len( inaugural.words(speech) ) ]\n",
    "table = Series( valueColumn, index = indexColumn)\n",
    "print(table)\n"
   ]
  },
  {
   "cell_type": "code",
   "execution_count": 25,
   "metadata": {},
   "outputs": [],
   "source": [
    "table = DataFrame(Series( valueColumn, index = indexColumn), columns=[\"Length\"])"
   ]
  },
  {
   "cell_type": "code",
   "execution_count": 26,
   "metadata": {},
   "outputs": [
    {
     "name": "stdout",
     "output_type": "stream",
     "text": [
      "                     Length\n",
      "1789-Washington.txt    1538\n",
      "1793-Washington.txt     147\n",
      "1797-Adams.txt         2585\n",
      "1801-Jefferson.txt     1935\n",
      "1805-Jefferson.txt     2384\n",
      "1809-Madison.txt       1265\n",
      "1813-Madison.txt       1304\n",
      "1817-Monroe.txt        3693\n",
      "1821-Monroe.txt        4909\n",
      "1825-Adams.txt         3150\n",
      "1829-Jackson.txt       1208\n",
      "1833-Jackson.txt       1267\n",
      "1837-VanBuren.txt      4171\n",
      "1841-Harrison.txt      9165\n",
      "1845-Polk.txt          5196\n",
      "1849-Taylor.txt        1182\n",
      "1853-Pierce.txt        3657\n",
      "1857-Buchanan.txt      3098\n",
      "1861-Lincoln.txt       4005\n",
      "1865-Lincoln.txt        785\n",
      "1869-Grant.txt         1239\n",
      "1873-Grant.txt         1478\n",
      "1877-Hayes.txt         2724\n",
      "1881-Garfield.txt      3239\n",
      "1885-Cleveland.txt     1828\n",
      "1889-Harrison.txt      4750\n",
      "1893-Cleveland.txt     2153\n",
      "1897-McKinley.txt      4371\n",
      "1901-McKinley.txt      2450\n",
      "1905-Roosevelt.txt     1091\n",
      "1909-Taft.txt          5846\n",
      "1913-Wilson.txt        1905\n",
      "1917-Wilson.txt        1656\n",
      "1921-Harding.txt       3756\n",
      "1925-Coolidge.txt      4442\n",
      "1929-Hoover.txt        3890\n",
      "1933-Roosevelt.txt     2063\n",
      "1937-Roosevelt.txt     2019\n",
      "1941-Roosevelt.txt     1536\n",
      "1945-Roosevelt.txt      637\n",
      "1949-Truman.txt        2528\n",
      "1953-Eisenhower.txt    2775\n",
      "1957-Eisenhower.txt    1917\n",
      "1961-Kennedy.txt       1546\n",
      "1965-Johnson.txt       1715\n",
      "1969-Nixon.txt         2425\n",
      "1973-Nixon.txt         2028\n",
      "1977-Carter.txt        1380\n",
      "1981-Reagan.txt        2801\n",
      "1985-Reagan.txt        2946\n",
      "1989-Bush.txt          2713\n",
      "1993-Clinton.txt       1855\n",
      "1997-Clinton.txt       2462\n",
      "2001-Bush.txt          1825\n",
      "2005-Bush.txt          2376\n",
      "2009-Obama.txt         2726\n"
     ]
    }
   ],
   "source": [
    "print(table)"
   ]
  },
  {
   "cell_type": "code",
   "execution_count": 27,
   "metadata": {},
   "outputs": [
    {
     "name": "stdout",
     "output_type": "stream",
     "text": [
      "['1789', '1793', '1797', '1801', '1805', '1809', '1813', '1817', '1821', '1825', '1829', '1833', '1837', '1841', '1845', '1849', '1853', '1857', '1861', '1865', '1869', '1873', '1877', '1881', '1885', '1889', '1893', '1897', '1901', '1905', '1909', '1913', '1917', '1921', '1925', '1929', '1933', '1937', '1941', '1945', '1949', '1953', '1957', '1961', '1965', '1969', '1973', '1977', '1981', '1985', '1989', '1993', '1997', '2001', '2005', '2009']\n"
     ]
    }
   ],
   "source": [
    "years = [x[:4] for x in table.index]\n",
    "print(years)"
   ]
  },
  {
   "cell_type": "code",
   "execution_count": 28,
   "metadata": {},
   "outputs": [],
   "source": [
    "table[\"Years\"] = years"
   ]
  },
  {
   "cell_type": "code",
   "execution_count": 29,
   "metadata": {},
   "outputs": [
    {
     "name": "stdout",
     "output_type": "stream",
     "text": [
      "                     Length Years\n",
      "1789-Washington.txt    1538  1789\n",
      "1793-Washington.txt     147  1793\n",
      "1797-Adams.txt         2585  1797\n",
      "1801-Jefferson.txt     1935  1801\n",
      "1805-Jefferson.txt     2384  1805\n",
      "1809-Madison.txt       1265  1809\n",
      "1813-Madison.txt       1304  1813\n",
      "1817-Monroe.txt        3693  1817\n",
      "1821-Monroe.txt        4909  1821\n",
      "1825-Adams.txt         3150  1825\n",
      "1829-Jackson.txt       1208  1829\n",
      "1833-Jackson.txt       1267  1833\n",
      "1837-VanBuren.txt      4171  1837\n",
      "1841-Harrison.txt      9165  1841\n",
      "1845-Polk.txt          5196  1845\n",
      "1849-Taylor.txt        1182  1849\n",
      "1853-Pierce.txt        3657  1853\n",
      "1857-Buchanan.txt      3098  1857\n",
      "1861-Lincoln.txt       4005  1861\n",
      "1865-Lincoln.txt        785  1865\n",
      "1869-Grant.txt         1239  1869\n",
      "1873-Grant.txt         1478  1873\n",
      "1877-Hayes.txt         2724  1877\n",
      "1881-Garfield.txt      3239  1881\n",
      "1885-Cleveland.txt     1828  1885\n",
      "1889-Harrison.txt      4750  1889\n",
      "1893-Cleveland.txt     2153  1893\n",
      "1897-McKinley.txt      4371  1897\n",
      "1901-McKinley.txt      2450  1901\n",
      "1905-Roosevelt.txt     1091  1905\n",
      "1909-Taft.txt          5846  1909\n",
      "1913-Wilson.txt        1905  1913\n",
      "1917-Wilson.txt        1656  1917\n",
      "1921-Harding.txt       3756  1921\n",
      "1925-Coolidge.txt      4442  1925\n",
      "1929-Hoover.txt        3890  1929\n",
      "1933-Roosevelt.txt     2063  1933\n",
      "1937-Roosevelt.txt     2019  1937\n",
      "1941-Roosevelt.txt     1536  1941\n",
      "1945-Roosevelt.txt      637  1945\n",
      "1949-Truman.txt        2528  1949\n",
      "1953-Eisenhower.txt    2775  1953\n",
      "1957-Eisenhower.txt    1917  1957\n",
      "1961-Kennedy.txt       1546  1961\n",
      "1965-Johnson.txt       1715  1965\n",
      "1969-Nixon.txt         2425  1969\n",
      "1973-Nixon.txt         2028  1973\n",
      "1977-Carter.txt        1380  1977\n",
      "1981-Reagan.txt        2801  1981\n",
      "1985-Reagan.txt        2946  1985\n",
      "1989-Bush.txt          2713  1989\n",
      "1993-Clinton.txt       1855  1993\n",
      "1997-Clinton.txt       2462  1997\n",
      "2001-Bush.txt          1825  2001\n",
      "2005-Bush.txt          2376  2005\n",
      "2009-Obama.txt         2726  2009\n"
     ]
    }
   ],
   "source": [
    "print(table)"
   ]
  },
  {
   "cell_type": "code",
   "execution_count": 30,
   "metadata": {},
   "outputs": [
    {
     "name": "stdout",
     "output_type": "stream",
     "text": [
      "['Washington', 'Washington', 'Adams', 'Jefferson', 'Jefferson', 'Madison', 'Madison', 'Monroe', 'Monroe', 'Adams', 'Jackson', 'Jackson', 'VanBuren', 'Harrison', 'Polk', 'Taylor', 'Pierce', 'Buchanan', 'Lincoln', 'Lincoln', 'Grant', 'Grant', 'Hayes', 'Garfield', 'Cleveland', 'Harrison', 'Cleveland', 'McKinley', 'McKinley', 'Roosevelt', 'Taft', 'Wilson', 'Wilson', 'Harding', 'Coolidge', 'Hoover', 'Roosevelt', 'Roosevelt', 'Roosevelt', 'Roosevelt', 'Truman', 'Eisenhower', 'Eisenhower', 'Kennedy', 'Johnson', 'Nixon', 'Nixon', 'Carter', 'Reagan', 'Reagan', 'Bush', 'Clinton', 'Clinton', 'Bush', 'Bush', 'Obama']\n"
     ]
    }
   ],
   "source": [
    "names = [x[5:-4] for x in table.index]\n",
    "print(names)"
   ]
  },
  {
   "cell_type": "code",
   "execution_count": 33,
   "metadata": {},
   "outputs": [
    {
     "name": "stdout",
     "output_type": "stream",
     "text": [
      "                         Length Years       Names\n",
      "1789-Washington.txt  Washington  1789  Washington\n",
      "1793-Washington.txt  Washington  1793  Washington\n",
      "1797-Adams.txt            Adams  1797       Adams\n",
      "1801-Jefferson.txt    Jefferson  1801   Jefferson\n",
      "1805-Jefferson.txt    Jefferson  1805   Jefferson\n",
      "1809-Madison.txt        Madison  1809     Madison\n",
      "1813-Madison.txt        Madison  1813     Madison\n",
      "1817-Monroe.txt          Monroe  1817      Monroe\n",
      "1821-Monroe.txt          Monroe  1821      Monroe\n",
      "1825-Adams.txt            Adams  1825       Adams\n",
      "1829-Jackson.txt        Jackson  1829     Jackson\n",
      "1833-Jackson.txt        Jackson  1833     Jackson\n",
      "1837-VanBuren.txt      VanBuren  1837    VanBuren\n",
      "1841-Harrison.txt      Harrison  1841    Harrison\n",
      "1845-Polk.txt              Polk  1845        Polk\n",
      "1849-Taylor.txt          Taylor  1849      Taylor\n",
      "1853-Pierce.txt          Pierce  1853      Pierce\n",
      "1857-Buchanan.txt      Buchanan  1857    Buchanan\n",
      "1861-Lincoln.txt        Lincoln  1861     Lincoln\n",
      "1865-Lincoln.txt        Lincoln  1865     Lincoln\n",
      "1869-Grant.txt            Grant  1869       Grant\n",
      "1873-Grant.txt            Grant  1873       Grant\n",
      "1877-Hayes.txt            Hayes  1877       Hayes\n",
      "1881-Garfield.txt      Garfield  1881    Garfield\n",
      "1885-Cleveland.txt    Cleveland  1885   Cleveland\n",
      "1889-Harrison.txt      Harrison  1889    Harrison\n",
      "1893-Cleveland.txt    Cleveland  1893   Cleveland\n",
      "1897-McKinley.txt      McKinley  1897    McKinley\n",
      "1901-McKinley.txt      McKinley  1901    McKinley\n",
      "1905-Roosevelt.txt    Roosevelt  1905   Roosevelt\n",
      "1909-Taft.txt              Taft  1909        Taft\n",
      "1913-Wilson.txt          Wilson  1913      Wilson\n",
      "1917-Wilson.txt          Wilson  1917      Wilson\n",
      "1921-Harding.txt        Harding  1921     Harding\n",
      "1925-Coolidge.txt      Coolidge  1925    Coolidge\n",
      "1929-Hoover.txt          Hoover  1929      Hoover\n",
      "1933-Roosevelt.txt    Roosevelt  1933   Roosevelt\n",
      "1937-Roosevelt.txt    Roosevelt  1937   Roosevelt\n",
      "1941-Roosevelt.txt    Roosevelt  1941   Roosevelt\n",
      "1945-Roosevelt.txt    Roosevelt  1945   Roosevelt\n",
      "1949-Truman.txt          Truman  1949      Truman\n",
      "1953-Eisenhower.txt  Eisenhower  1953  Eisenhower\n",
      "1957-Eisenhower.txt  Eisenhower  1957  Eisenhower\n",
      "1961-Kennedy.txt        Kennedy  1961     Kennedy\n",
      "1965-Johnson.txt        Johnson  1965     Johnson\n",
      "1969-Nixon.txt            Nixon  1969       Nixon\n",
      "1973-Nixon.txt            Nixon  1973       Nixon\n",
      "1977-Carter.txt          Carter  1977      Carter\n",
      "1981-Reagan.txt          Reagan  1981      Reagan\n",
      "1985-Reagan.txt          Reagan  1985      Reagan\n",
      "1989-Bush.txt              Bush  1989        Bush\n",
      "1993-Clinton.txt        Clinton  1993     Clinton\n",
      "1997-Clinton.txt        Clinton  1997     Clinton\n",
      "2001-Bush.txt              Bush  2001        Bush\n",
      "2005-Bush.txt              Bush  2005        Bush\n",
      "2009-Obama.txt            Obama  2009       Obama\n"
     ]
    }
   ],
   "source": [
    "table[\"Length\"] = names\n",
    "print(table)"
   ]
  },
  {
   "cell_type": "code",
   "execution_count": 35,
   "metadata": {},
   "outputs": [
    {
     "name": "stdout",
     "output_type": "stream",
     "text": [
      "                         Length Years       Names\n",
      "1789-Washington.txt  Washington  1789  Washington\n",
      "1793-Washington.txt  Washington  1793  Washington\n",
      "1797-Adams.txt            Adams  1797       Adams\n",
      "1801-Jefferson.txt    Jefferson  1801   Jefferson\n",
      "1805-Jefferson.txt    Jefferson  1805   Jefferson\n",
      "1809-Madison.txt        Madison  1809     Madison\n",
      "1813-Madison.txt        Madison  1813     Madison\n",
      "1817-Monroe.txt          Monroe  1817      Monroe\n",
      "1821-Monroe.txt          Monroe  1821      Monroe\n",
      "1825-Adams.txt            Adams  1825       Adams\n",
      "1829-Jackson.txt        Jackson  1829     Jackson\n",
      "1833-Jackson.txt        Jackson  1833     Jackson\n",
      "1837-VanBuren.txt      VanBuren  1837    VanBuren\n",
      "1841-Harrison.txt      Harrison  1841    Harrison\n",
      "1845-Polk.txt              Polk  1845        Polk\n",
      "1849-Taylor.txt          Taylor  1849      Taylor\n",
      "1853-Pierce.txt          Pierce  1853      Pierce\n",
      "1857-Buchanan.txt      Buchanan  1857    Buchanan\n",
      "1861-Lincoln.txt        Lincoln  1861     Lincoln\n",
      "1865-Lincoln.txt        Lincoln  1865     Lincoln\n",
      "1869-Grant.txt            Grant  1869       Grant\n",
      "1873-Grant.txt            Grant  1873       Grant\n",
      "1877-Hayes.txt            Hayes  1877       Hayes\n",
      "1881-Garfield.txt      Garfield  1881    Garfield\n",
      "1885-Cleveland.txt    Cleveland  1885   Cleveland\n",
      "1889-Harrison.txt      Harrison  1889    Harrison\n",
      "1893-Cleveland.txt    Cleveland  1893   Cleveland\n",
      "1897-McKinley.txt      McKinley  1897    McKinley\n",
      "1901-McKinley.txt      McKinley  1901    McKinley\n",
      "1905-Roosevelt.txt    Roosevelt  1905   Roosevelt\n",
      "1909-Taft.txt              Taft  1909        Taft\n",
      "1913-Wilson.txt          Wilson  1913      Wilson\n",
      "1917-Wilson.txt          Wilson  1917      Wilson\n",
      "1921-Harding.txt        Harding  1921     Harding\n",
      "1925-Coolidge.txt      Coolidge  1925    Coolidge\n",
      "1929-Hoover.txt          Hoover  1929      Hoover\n",
      "1933-Roosevelt.txt    Roosevelt  1933   Roosevelt\n",
      "1937-Roosevelt.txt    Roosevelt  1937   Roosevelt\n",
      "1941-Roosevelt.txt    Roosevelt  1941   Roosevelt\n",
      "1945-Roosevelt.txt    Roosevelt  1945   Roosevelt\n",
      "1949-Truman.txt          Truman  1949      Truman\n",
      "1953-Eisenhower.txt  Eisenhower  1953  Eisenhower\n",
      "1957-Eisenhower.txt  Eisenhower  1957  Eisenhower\n",
      "1961-Kennedy.txt        Kennedy  1961     Kennedy\n",
      "1965-Johnson.txt        Johnson  1965     Johnson\n",
      "1969-Nixon.txt            Nixon  1969       Nixon\n",
      "1973-Nixon.txt            Nixon  1973       Nixon\n",
      "1977-Carter.txt          Carter  1977      Carter\n",
      "1981-Reagan.txt          Reagan  1981      Reagan\n",
      "1985-Reagan.txt          Reagan  1985      Reagan\n",
      "1989-Bush.txt              Bush  1989        Bush\n",
      "1993-Clinton.txt        Clinton  1993     Clinton\n",
      "1997-Clinton.txt        Clinton  1997     Clinton\n",
      "2001-Bush.txt              Bush  2001        Bush\n",
      "2005-Bush.txt              Bush  2005        Bush\n",
      "2009-Obama.txt            Obama  2009       Obama\n"
     ]
    }
   ],
   "source": [
    "table.sort_values('Length')\n",
    "print(table)"
   ]
  },
  {
   "cell_type": "code",
   "execution_count": null,
   "metadata": {},
   "outputs": [],
   "source": []
  }
 ],
 "metadata": {
  "kernelspec": {
   "display_name": "Python 3",
   "language": "python",
   "name": "python3"
  },
  "language_info": {
   "codemirror_mode": {
    "name": "ipython",
    "version": 3
   },
   "file_extension": ".py",
   "mimetype": "text/x-python",
   "name": "python",
   "nbconvert_exporter": "python",
   "pygments_lexer": "ipython3",
   "version": "3.6.4"
  }
 },
 "nbformat": 4,
 "nbformat_minor": 2
}
