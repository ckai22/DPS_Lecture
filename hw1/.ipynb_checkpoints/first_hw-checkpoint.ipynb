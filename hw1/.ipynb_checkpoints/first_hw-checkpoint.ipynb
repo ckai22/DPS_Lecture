{
 "cells": [
  {
   "cell_type": "code",
   "execution_count": 79,
   "metadata": {},
   "outputs": [],
   "source": [
    "from math import *\n",
    "import matplotlib.lines as mlines\n",
    "import matplotlib.pyplot as plt\n",
    "import numpy as np\n",
    "import time"
   ]
  },
  {
   "cell_type": "code",
   "execution_count": 80,
   "metadata": {},
   "outputs": [],
   "source": [
    "Ns = range(100000, 1000000, 100000)"
   ]
  },
  {
   "cell_type": "code",
   "execution_count": 81,
   "metadata": {},
   "outputs": [],
   "source": [
    "def isPrime(N):\n",
    "    if N <= 1:\n",
    "        return False\n",
    "\n",
    "    if N == 2 :\n",
    "        return True\n",
    "    \n",
    "    if N%2 == 0 :\n",
    "        return False\n",
    "    \n",
    "    for i in range(2, int(N**0.5+1)):\n",
    "        if N%i == 0:\n",
    "            return False\n",
    "    \n",
    "    return True"
   ]
  },
  {
   "cell_type": "code",
   "execution_count": 82,
   "metadata": {},
   "outputs": [],
   "source": [
    "#BS:가장 기본적인 sieve\n",
    "def sieve1(N):\n",
    "    \n",
    "    #짝수의 경우 초기화에서 처리\n",
    "    primFlags = [False if (x)%2==0 else True for x in range(0, N)]\n",
    "    primFlags[0] = False\n",
    "    primFlags[1] = False\n",
    "    primFlags[2] = True\n",
    "    \n",
    "    for i in range(3, N):\n",
    "        #소수가 아닌 경우 건너띄는 부분\n",
    "        if primFlags[i] == False:\n",
    "            continue\n",
    "        \n",
    "        #해당 소수의 배수는 전부 제외\n",
    "        interval = i\n",
    "        next = i + interval\n",
    "        while next <= (N - 1) :\n",
    "            primFlags[next] = False\n",
    "            next += interval\n",
    "    \n",
    "    return primFlags\n"
   ]
  },
  {
   "cell_type": "code",
   "execution_count": 83,
   "metadata": {},
   "outputs": [],
   "source": [
    "#OOS: 소수를 한 단계씩 올리는 것이 아닌 두 단계씩 올리는 경우\n",
    "def sieve2(N):\n",
    "    #초기화\n",
    "    \n",
    "    #짝수의 경우 초기화에서 처리\n",
    "    primFlags = [False if (x)%2==0 else True for x in range(0,N)]\n",
    "    primFlags[0] = False\n",
    "    primFlags[1] = False\n",
    "    primFlags[2] = True\n",
    "    \n",
    "    for i in range(3, N):\n",
    "        #소수가 아닌 경우 건너띄는 부분\n",
    "        if primFlags[i] == False:\n",
    "            continue\n",
    "        \n",
    "        #해당 소수의 배수는 전부 제외\n",
    "        interval = 2 * i\n",
    "        next = i + interval\n",
    "        while next <= (N - 1) :\n",
    "            primFlags[next] = False\n",
    "            next += interval\n",
    "    \n",
    "    return primFlags\n",
    "\n",
    "#print(sieve2(1000))\n"
   ]
  },
  {
   "cell_type": "code",
   "execution_count": 84,
   "metadata": {},
   "outputs": [],
   "source": [
    "#SS: 루트 값까지만 검사\n",
    "def sieve3(N):\n",
    "    #초기화\n",
    "    \n",
    "    #짝수의 경우 초기화에서 처리\n",
    "    primFlags = [False if (x)%2==0 else True for x in range(0,N)]\n",
    "    primFlags[0] = False\n",
    "    primFlags[1] = False\n",
    "    primFlags[2] = True\n",
    "    \n",
    "    for i in range(3, int(sqrt(N)) + 1):\n",
    "        #소수가 아닌 경우 건너띄는 부분\n",
    "        if primFlags[i] == False:\n",
    "            continue\n",
    "        \n",
    "        #해당 소수의 배수는 전부 제외\n",
    "        interval = 2 * i\n",
    "        next = i + interval\n",
    "        while next <= (N - 1) :\n",
    "            primFlags[next] = False\n",
    "            next += interval\n",
    "    \n",
    "    return primFlags\n",
    "\n",
    "#print(sieve3(1000))\n"
   ]
  },
  {
   "cell_type": "code",
   "execution_count": 85,
   "metadata": {},
   "outputs": [],
   "source": [
    "#NS: numpy를 이용하여 계산\n",
    "def sieve4(N):\n",
    "    #초기화\n",
    "    numArr = np.arange(N)\n",
    "    primeFlags = np.full(N, True)\n",
    "    primeFlags[0] = False\n",
    "    primeFlags[1] = False\n",
    "    \n",
    "    for i in range(2, int(sqrt(N)) + 1):\n",
    "        #소수가 아닌 경우 건너띄는 부분\n",
    "        if primeFlags[i] == False:\n",
    "            continue\n",
    "        \n",
    "        #해당 소수의 배수는 전부 제외\n",
    "        primeFlags &= (numArr%i != 0)\n",
    "        primeFlags[i] = True\n",
    "    \n",
    "    return primeFlags\n",
    "\n",
    "#print(sieve4(1000))"
   ]
  },
  {
   "cell_type": "code",
   "execution_count": null,
   "metadata": {},
   "outputs": [],
   "source": []
  },
  {
   "cell_type": "code",
   "execution_count": 86,
   "metadata": {},
   "outputs": [],
   "source": [
    "def isPrimeSpeedCheck(NS):\n",
    "    elapsed = []\n",
    "    for n in NS:\n",
    "        st = time.clock()\n",
    "        primes = []\n",
    "        for m in range(1, n):\n",
    "            if isPrime(m):\n",
    "                primes += [m]\n",
    "        elapsed += [time.clock() - st]\n",
    "    return elapsed\n",
    "\n",
    "prev_elapsed = isPrimeSpeedCheck(Ns)"
   ]
  },
  {
   "cell_type": "code",
   "execution_count": 87,
   "metadata": {},
   "outputs": [],
   "source": [
    "def sieve1SpeedCheck(r):\n",
    "    elapsed = []\n",
    "    for n in r:\n",
    "        st = time.clock()\n",
    "        primes = []\n",
    "        primes_flag = sieve1(n)\n",
    "        for m in range(2, n):\n",
    "            if primes_flag[m]:\n",
    "                primes += [m]\n",
    "        elapsed += [time.clock() - st]\n",
    "    return elapsed\n",
    "\n",
    "sieve1_elapsed = sieve1SpeedCheck(Ns)"
   ]
  },
  {
   "cell_type": "code",
   "execution_count": 88,
   "metadata": {},
   "outputs": [],
   "source": [
    "def sieve2SpeedCheck(r):\n",
    "    elapsed = []\n",
    "    for n in r:\n",
    "        st = time.clock()\n",
    "        primes = []\n",
    "        primes_flag = sieve2(n)\n",
    "        for m in range(2, n):\n",
    "            if primes_flag[m]:\n",
    "                primes += [m]\n",
    "        elapsed += [time.clock() - st]\n",
    "    return elapsed\n",
    "\n",
    "sieve2_elapsed = sieve2SpeedCheck(Ns)"
   ]
  },
  {
   "cell_type": "code",
   "execution_count": 89,
   "metadata": {},
   "outputs": [],
   "source": [
    "def sieve3SpeedCheck(r):\n",
    "    elapsed = []\n",
    "    for n in r:\n",
    "        st = time.clock()\n",
    "        primes = []\n",
    "        primes_flag = sieve3(n)\n",
    "        for m in range(2, n):\n",
    "            if primes_flag[m]:\n",
    "                primes += [m]\n",
    "        elapsed += [time.clock() - st]\n",
    "    return elapsed\n",
    "\n",
    "sieve3_elapsed = sieve3SpeedCheck(Ns)"
   ]
  },
  {
   "cell_type": "code",
   "execution_count": 90,
   "metadata": {},
   "outputs": [],
   "source": [
    "def sieve4SpeedCheck(r):\n",
    "    elapsed = []\n",
    "    for n in r:\n",
    "        st = time.clock()\n",
    "        primes = []\n",
    "        primes_flag = sieve4(n)\n",
    "        for m in range(2, n):\n",
    "            if primes_flag[m]:\n",
    "                primes += [m]\n",
    "        elapsed += [time.clock() - st]\n",
    "    return elapsed\n",
    "\n",
    "sieve4_elapsed = sieve4SpeedCheck(Ns)"
   ]
  },
  {
   "cell_type": "code",
   "execution_count": null,
   "metadata": {},
   "outputs": [],
   "source": []
  },
  {
   "cell_type": "code",
   "execution_count": 91,
   "metadata": {},
   "outputs": [
    {
     "data": {
      "image/png": "[encoded data removed]",
      "text/plain": [
       "<Figure size 936x936 with 1 Axes>"
      ]
     },
     "metadata": {},
     "output_type": "display_data"
    }
   ],
   "source": [
    "plt.grid()\n",
    "\n",
    "plt.xlabel('Required Range Limit \\'N\\' (K)')\n",
    "plt.ylabel('Elapsed Time (s)')\n",
    "\n",
    "plt.xticks(Ns,['100K','200K', '300K', '400K', '500K', '600K', '700K', '800K', '900K'])\n",
    "\n",
    "prev_line = mlines.Line2D([], [], color='r', marker='s', markersize=7, label='Prev')\n",
    "bs_line = mlines.Line2D([], [], color='b', marker='s', markersize=7, label='BS')\n",
    "oos_line = mlines.Line2D([], [], color='g', marker='s', markersize=7, label='OOS')\n",
    "ss_line = mlines.Line2D([], [], color='y', marker='s', markersize=7, label='SS')\n",
    "ns_line = mlines.Line2D([], [], color='k', marker='s', markersize=7, label='NS')\n",
    "plt.legend(handles=[prev_line, bs_line, oos_line, ss_line, ns_line])\n",
    "\n",
    "plt.plot(Ns, prev_elapsed, 'r')\n",
    "plt.plot(Ns, prev_elapsed, 'rs', label='Prev')\n",
    "plt.plot(Ns, sieve1_elapsed, 'b')\n",
    "plt.plot(Ns, sieve1_elapsed, 'bs')\n",
    "plt.plot(Ns, sieve2_elapsed, 'g')\n",
    "plt.plot(Ns, sieve2_elapsed, 'gs')\n",
    "plt.plot(Ns, sieve3_elapsed, 'y')\n",
    "plt.plot(Ns, sieve3_elapsed, 'ys')\n",
    "plt.plot(Ns, sieve4_elapsed, 'k')\n",
    "plt.plot(Ns, sieve4_elapsed, 'ks')\n",
    "\n",
    "import matplotlib.pylab as pylab\n",
    "params = {'legend.fontsize': '25',\n",
    "          'figure.figsize': (13, 13),\n",
    "         'axes.labelsize': '25',\n",
    "         'axes.titlesize':'25',\n",
    "         'xtick.labelsize':'25',\n",
    "         'ytick.labelsize':'25'}\n",
    "pylab.rcParams.update(params)\n",
    "plt.show()"
   ]
  },
  {
   "cell_type": "code",
   "execution_count": 53,
   "metadata": {},
   "outputs": [],
   "source": [
    "def getPrimeTestSet( NS ):\n",
    "    test_set = []\n",
    "    for n in NS:\n",
    "        primes = []\n",
    "        for m in range(1, n):\n",
    "            if isPrime(m):\n",
    "                primes += [m]\n",
    "        test_set += [primes]\n",
    "    return test_set\n",
    "\n",
    "prime_test_set = getPrimeTestSet( NS )"
   ]
  },
  {
   "cell_type": "code",
   "execution_count": 15,
   "metadata": {},
   "outputs": [
    {
     "name": "stdout",
     "output_type": "stream",
     "text": [
      "True\n"
     ]
    }
   ],
   "source": [
    "def getSieve1TestSet(r):\n",
    "    test_set = []\n",
    "    for n in r:\n",
    "        primes = []\n",
    "        primes_flag = sieve1(n)\n",
    "        for m in range(2, n):\n",
    "            if primes_flag[m]:\n",
    "                primes += [m]\n",
    "        test_set += [primes]\n",
    "    return test_set\n",
    "\n",
    "sieve1_test_set = getSieve1TestSet( Ns )\n",
    "print(prime_test_set == sieve1_test_set)"
   ]
  },
  {
   "cell_type": "code",
   "execution_count": 16,
   "metadata": {},
   "outputs": [
    {
     "name": "stdout",
     "output_type": "stream",
     "text": [
      "True\n"
     ]
    }
   ],
   "source": [
    "def getSieve2TestSet(r):\n",
    "    test_set = []\n",
    "    for n in r:\n",
    "        primes = []\n",
    "        primes_flag = sieve2(n)\n",
    "        for m in range(2, n):\n",
    "            if primes_flag[m]:\n",
    "                primes += [m]\n",
    "        test_set += [primes]\n",
    "    return test_set\n",
    "\n",
    "sieve2_test_set = getSieve2TestSet( Ns )\n",
    "print(prime_test_set == sieve2_test_set)"
   ]
  },
  {
   "cell_type": "code",
   "execution_count": 17,
   "metadata": {},
   "outputs": [
    {
     "name": "stdout",
     "output_type": "stream",
     "text": [
      "True\n"
     ]
    }
   ],
   "source": [
    "def getSieve3TestSet(r):\n",
    "    test_set = []\n",
    "    for n in r:\n",
    "        primes = []\n",
    "        primes_flag = sieve3(n)\n",
    "        for m in range(2, n):\n",
    "            if primes_flag[m]:\n",
    "                primes += [m]\n",
    "        test_set += [primes]\n",
    "    return test_set\n",
    "\n",
    "sieve3_test_set = getSieve3TestSet( Ns )\n",
    "print(prime_test_set == sieve3_test_set)"
   ]
  },
  {
   "cell_type": "code",
   "execution_count": 18,
   "metadata": {},
   "outputs": [
    {
     "name": "stdout",
     "output_type": "stream",
     "text": [
      "True\n"
     ]
    }
   ],
   "source": [
    "def getSieve4TestSet(r):\n",
    "    test_set = []\n",
    "    for n in r:\n",
    "        primes = []\n",
    "        primes_flag = sieve4(n)\n",
    "        for m in range(2, n):\n",
    "            if primes_flag[m]:\n",
    "                primes += [m]\n",
    "        test_set += [primes]\n",
    "    return test_set\n",
    "\n",
    "sieve4_test_set = getSieve4TestSet( Ns )\n",
    "print(prime_test_set == sieve4_test_set)"
   ]
  },
  {
   "cell_type": "code",
   "execution_count": 19,
   "metadata": {},
   "outputs": [
    {
     "ename": "NameError",
     "evalue": "name 'test_set' is not defined",
     "output_type": "error",
     "traceback": [
      "\u001b[1;31m---------------------------------------------------------------------------\u001b[0m",
      "\u001b[1;31mNameError\u001b[0m                                 Traceback (most recent call last)",
      "\u001b[1;32m<ipython-input-19-a76531b39219>\u001b[0m in \u001b[0;36m<module>\u001b[1;34m()\u001b[0m\n\u001b[0;32m     14\u001b[0m     \u001b[1;31m#print(wrong)\u001b[0m\u001b[1;33m\u001b[0m\u001b[1;33m\u001b[0m\u001b[0m\n\u001b[0;32m     15\u001b[0m \u001b[1;33m\u001b[0m\u001b[0m\n\u001b[1;32m---> 16\u001b[1;33m \u001b[0mprintWrongPrime\u001b[0m\u001b[1;33m(\u001b[0m\u001b[0mtest_set\u001b[0m\u001b[1;33m[\u001b[0m\u001b[1;36m0\u001b[0m\u001b[1;33m]\u001b[0m\u001b[1;33m,\u001b[0m \u001b[0msieve3_test_set\u001b[0m\u001b[1;33m[\u001b[0m\u001b[1;36m0\u001b[0m\u001b[1;33m]\u001b[0m\u001b[1;33m)\u001b[0m\u001b[1;33m\u001b[0m\u001b[0m\n\u001b[0m\u001b[0;32m     17\u001b[0m \u001b[0mprint\u001b[0m\u001b[1;33m(\u001b[0m\u001b[0mtest_set\u001b[0m\u001b[1;33m[\u001b[0m\u001b[1;36m0\u001b[0m\u001b[1;33m]\u001b[0m\u001b[1;33m)\u001b[0m\u001b[1;33m\u001b[0m\u001b[0m\n\u001b[0;32m     18\u001b[0m \u001b[1;31m#print(sieve3_test_set[0])\u001b[0m\u001b[1;33m\u001b[0m\u001b[1;33m\u001b[0m\u001b[0m\n",
      "\u001b[1;31mNameError\u001b[0m: name 'test_set' is not defined"
     ]
    }
   ],
   "source": [
    "def printWrongPrime(ans, test): \n",
    "    wrong = []\n",
    "    \n",
    "    j = 0\n",
    "    for i in range(0, len(ans)):\n",
    "        if(ans[i] != test[j]):\n",
    "            print(ans[i])\n",
    "            print(test[j])\n",
    "            j += 2\n",
    "        else:\n",
    "            j += 1\n",
    "        \n",
    "    \n",
    "    #print(wrong)\n",
    "    \n",
    "printWrongPrime(test_set[0], sieve3_test_set[0])\n",
    "print(test_set[0])\n",
    "#print(sieve3_test_set[0])"
   ]
  },
  {
   "cell_type": "code",
   "execution_count": null,
   "metadata": {},
   "outputs": [],
   "source": []
  }
 ],
 "metadata": {
  "kernelspec": {
   "display_name": "Python 3",
   "language": "python",
   "name": "python3"
  },
  "language_info": {
   "codemirror_mode": {
    "name": "ipython",
    "version": 3
   },
   "file_extension": ".py",
   "mimetype": "text/x-python",
   "name": "python",
   "nbconvert_exporter": "python",
   "pygments_lexer": "ipython3",
   "version": "3.6.4"
  }
 },
 "nbformat": 4,
 "nbformat_minor": 2
}
