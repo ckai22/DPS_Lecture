{
 "cells": [
  {
   "cell_type": "code",
   "execution_count": 43,
   "metadata": {},
   "outputs": [],
   "source": [
    "from math import *\n",
    "import matplotlib.pyplot as plt\n",
    "from numpy import *"
   ]
  },
  {
   "cell_type": "code",
   "execution_count": 3,
   "metadata": {},
   "outputs": [],
   "source": [
    "def isPrime(M):\n",
    "    if M <= 1:\n",
    "        return False\n",
    "\n",
    "    if M == 2 :\n",
    "        return True\n",
    "    \n",
    "    if M%2 == 0 :\n",
    "        return False\n",
    "    \n",
    "    for k in range(2, int(M**0.5+1)):\n",
    "        if M%k == 0:\n",
    "            return False\n",
    "    \n",
    "    return True"
   ]
  },
  {
   "cell_type": "code",
   "execution_count": 4,
   "metadata": {},
   "outputs": [],
   "source": [
    "def sieve1(M):\n",
    "    \n",
    "    if M <= 1 :\n",
    "        return False\n",
    "    \n",
    "    if M == 2 :\n",
    "        return True\n",
    "    \n",
    "    flags = [True] * (M + 1)\n",
    "    #print(flags)\n",
    "    \n",
    "    for i in range(2, M + 1):\n",
    "        #print(i)\n",
    "        if flags[i] == False:\n",
    "            continue\n",
    "            \n",
    "        j = i + i\n",
    "        while j <= M :\n",
    "            flags[j] = False\n",
    "            j += i\n",
    "    \n",
    "    return flags[M]"
   ]
  },
  {
   "cell_type": "code",
   "execution_count": 5,
   "metadata": {},
   "outputs": [],
   "source": [
    "def sieve2(M):\n",
    "    \n",
    "    if M <= 1 :\n",
    "        return False\n",
    "    \n",
    "    if M == 2 :\n",
    "        return True\n",
    "    \n",
    "    flags = [True] * (M + 1)\n",
    "    #print(flags)\n",
    "    \n",
    "    for i in range(2, M + 1):\n",
    "        #print(i)\n",
    "        if flags[i] == False:\n",
    "            continue\n",
    "            \n",
    "        j = i + i\n",
    "        while j < M:\n",
    "            flags[j] = False\n",
    "            j += i\n",
    "        \n",
    "        if j == M:\n",
    "            return False\n",
    "    \n",
    "    return flags[M]"
   ]
  },
  {
   "cell_type": "code",
   "execution_count": 6,
   "metadata": {},
   "outputs": [],
   "source": [
    "def sieve3(M):\n",
    "    \n",
    "    if M <= 1 :\n",
    "        return False\n",
    "    \n",
    "    if M == 2 :\n",
    "        return True\n",
    "    \n",
    "    flags = [True] * (M + 1)\n",
    "    #print(flags)\n",
    "    \n",
    "    for i in range(2, int(sqrt(M)) + 1):\n",
    "        #print(i)\n",
    "        if flags[i] == False:\n",
    "            continue\n",
    "            \n",
    "        j = i + i\n",
    "        while j < M:\n",
    "            flags[j] = False\n",
    "            j += i\n",
    "        \n",
    "        if j == M:\n",
    "            return False\n",
    "    \n",
    "    return flags[M]"
   ]
  },
  {
   "cell_type": "code",
   "execution_count": 7,
   "metadata": {},
   "outputs": [],
   "source": [
    "def sieve4(M):\n",
    "    \n",
    "    if M <= 1 :\n",
    "        return False\n",
    "    \n",
    "    if M == 2 :\n",
    "        return True\n",
    "    \n",
    "    flags = [True] * (M + 1)\n",
    "    #print(flags)\n",
    "    \n",
    "    for i in range(2, int(sqrt(M)) + 1):\n",
    "        #print(i)\n",
    "        if flags[i] == False:\n",
    "            continue\n",
    "            \n",
    "        if M%i == 0:\n",
    "            return False\n",
    "            \n",
    "        j = i + i\n",
    "        while j < M:\n",
    "            flags[j] = False\n",
    "            j += i\n",
    "    \n",
    "    return flags[M]"
   ]
  },
  {
   "cell_type": "code",
   "execution_count": 8,
   "metadata": {},
   "outputs": [],
   "source": [
    "def sieve5(M):\n",
    "    \n",
    "    if M <= 1 :\n",
    "        return False\n",
    "    \n",
    "    if M == 2 :\n",
    "        return True\n",
    "    \n",
    "    flags = [True] * (M + 1)\n",
    "    #print(flags)\n",
    "    \n",
    "    sqrtM = int(sqrt(M))\n",
    "    \n",
    "    for i in range(2, sqrtM + 1):\n",
    "        #print(i)\n",
    "        if flags[i]:\n",
    "            continue\n",
    "            \n",
    "        if M%i == 0:\n",
    "            return False\n",
    "            \n",
    "        j = i + i\n",
    "        while j <= sqrtM :\n",
    "            flags[j] = False\n",
    "            j += i\n",
    "    \n",
    "    return flags[M]"
   ]
  },
  {
   "cell_type": "code",
   "execution_count": null,
   "metadata": {},
   "outputs": [],
   "source": [
    "def sieve6(M):\n",
    "    \n",
    "    if M <= 1 :\n",
    "        return False\n",
    "    \n",
    "    if M == 2 :\n",
    "        return True\n",
    "    \n",
    "    flags = [True] * (M + 1)\n",
    "    #print(flags)\n",
    "    \n",
    "    sqrtM = int(sqrt(M))\n",
    "    \n",
    "    for i in range(2, sqrtM + 1):\n",
    "        #print(i)\n",
    "        if flags[i]:\n",
    "            continue\n",
    "            \n",
    "        if M%i == 0:\n",
    "            return False\n",
    "        \n",
    "        flags = (flags%i == 0)\n",
    "        j = i + i\n",
    "        while j <= sqrtM :\n",
    "            flags[j] = False\n",
    "            j += i\n",
    "    \n",
    "    return flags[M]"
   ]
  },
  {
   "cell_type": "code",
   "execution_count": null,
   "metadata": {},
   "outputs": [],
   "source": [
    "def sieve7(num):\n",
    "    # index : 0, 1, 2, 3, 4\n",
    "    # eleme : 1, 2, 3, 4, 5\n",
    "    table = [False if (x+1)%2==0 else True for x in range(0,num)] # check all even number\n",
    "\n",
    "    table[0] = False # 1\n",
    "    table[1] = True # 2\n",
    "\n",
    "    for index in range(2,len(table)):\n",
    "        if (index)%2 == 1: # 2의 배수면 계산 안해\n",
    "            continue\n",
    "        if index > int(num**0.5)+1: # 루트 한거보다 작으면 계산 안해\n",
    "            break\n",
    "        if table[index] == False:\n",
    "            continue\n",
    "        target = index+1\n",
    "        count = 2\n",
    "        while index+target*count < num: \n",
    "            #print index, target, count, index+target*count, index+target*count+1\n",
    "            \n",
    "            table[index+target*count] = False\n",
    "            count+=2 # count가 홀수아니게 해야해 근데 0부터 시작하면 다 false 될듯..\n",
    "    \n",
    "    return table"
   ]
  },
  {
   "cell_type": "code",
   "execution_count": 46,
   "metadata": {},
   "outputs": [],
   "source": [
    "import time\n",
    "\n",
    "def speedCheck(r):\n",
    "    elapsed = []\n",
    "    for n in r:\n",
    "        st = time.clock()\n",
    "        primes = []\n",
    "        for m in range(1, n):\n",
    "            if isPrime(m):\n",
    "                primes += [m]\n",
    "        elapsed += [time.clock() - st]\n",
    "    return elapsed"
   ]
  },
  {
   "cell_type": "code",
   "execution_count": 28,
   "metadata": {},
   "outputs": [],
   "source": [
    "Ns = range(1000, 10000, 1000)"
   ]
  },
  {
   "cell_type": "code",
   "execution_count": 32,
   "metadata": {},
   "outputs": [],
   "source": [
    "prev_elapsed = speedCheck(Ns)"
   ]
  },
  {
   "cell_type": "code",
   "execution_count": 16,
   "metadata": {},
   "outputs": [],
   "source": [
    "sieve1_elapsed = speedCheck(Ns)"
   ]
  },
  {
   "cell_type": "code",
   "execution_count": 18,
   "metadata": {},
   "outputs": [],
   "source": [
    "sieve2_elapsed = speedCheck(Ns)"
   ]
  },
  {
   "cell_type": "code",
   "execution_count": 20,
   "metadata": {},
   "outputs": [],
   "source": [
    "sieve3_elapsed = speedCheck(Ns)"
   ]
  },
  {
   "cell_type": "code",
   "execution_count": 22,
   "metadata": {},
   "outputs": [],
   "source": [
    "sieve4_elapsed = speedCheck(Ns)"
   ]
  },
  {
   "cell_type": "code",
   "execution_count": 47,
   "metadata": {},
   "outputs": [],
   "source": [
    "sieve5_elapsed = speedCheck(Ns)"
   ]
  },
  {
   "cell_type": "code",
   "execution_count": 48,
   "metadata": {},
   "outputs": [],
   "source": [
    "sieve7_elapsed = speedCheck(Ns)"
   ]
  },
  {
   "cell_type": "code",
   "execution_count": 50,
   "metadata": {},
   "outputs": [
    {
     "data": {
      "image/png": "[encoded data removed]",
      "text/plain": [
       "<Figure size 432x288 with 1 Axes>"
      ]
     },
     "metadata": {},
     "output_type": "display_data"
    }
   ],
   "source": [
    "plt.grid()\n",
    "\n",
    "plt.plot(Ns, prev_elapsed, 'r')\n",
    "#plt.plot(Ns, sieve1_elapsed, 'b')\n",
    "#plt.plot(Ns, sieve2_elapsed, 'g')\n",
    "#plt.plot(Ns, sieve3_elapsed, 'y')\n",
    "#plt.plot(Ns, sieve4_elapsed, 'k')\n",
    "plt.plot(Ns, sieve7_elapsed, 'c')\n",
    "plt.show()"
   ]
  },
  {
   "cell_type": "code",
   "execution_count": 45,
   "metadata": {},
   "outputs": [
    {
     "name": "stdout",
     "output_type": "stream",
     "text": [
      "[ 0  1  2  3  4  5  6  7  8  9 10 11 12 13 14 15 16 17 18 19 20 21 22 23\n",
      " 24 25 26 27 28 29 30 31 32 33 34 35 36 37 38 39 40 41 42 43 44 45 46 47\n",
      " 48 49 50 51 52 53 54 55 56 57 58 59 60 61 62 63 64 65 66 67 68 69 70 71\n",
      " 72 73 74 75 76 77 78 79 80 81 82 83 84 85 86 87 88 89 90 91 92 93 94 95\n",
      " 96 97 98 99]\n",
      "[ True False  True False  True False  True False  True False  True False\n",
      "  True False  True False  True False  True False  True False  True False\n",
      "  True False  True False  True False  True False  True False  True False\n",
      "  True False  True False  True False  True False  True False  True False\n",
      "  True False  True False  True False  True False  True False  True False\n",
      "  True False  True False  True False  True False  True False  True False\n",
      "  True False  True False  True False  True False  True False  True False\n",
      "  True False  True False  True False  True False  True False  True False\n",
      "  True False  True False]\n"
     ]
    }
   ],
   "source": [
    "x = arange(100)\n",
    "print(x)\n",
    "print(x%2==0)"
   ]
  },
  {
   "cell_type": "code",
   "execution_count": null,
   "metadata": {},
   "outputs": [],
   "source": []
  }
 ],
 "metadata": {
  "kernelspec": {
   "display_name": "Python 3",
   "language": "python",
   "name": "python3"
  },
  "language_info": {
   "codemirror_mode": {
    "name": "ipython",
    "version": 3
   },
   "file_extension": ".py",
   "mimetype": "text/x-python",
   "name": "python",
   "nbconvert_exporter": "python",
   "pygments_lexer": "ipython3",
   "version": "3.6.4"
  }
 },
 "nbformat": 4,
 "nbformat_minor": 2
}
