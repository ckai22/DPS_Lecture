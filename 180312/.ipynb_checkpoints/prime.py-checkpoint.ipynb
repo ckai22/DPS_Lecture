{
 "cells": [
  {
   "cell_type": "code",
   "execution_count": 25,
   "metadata": {},
   "outputs": [],
   "source": [
    "import matplotlib.pyplot as plt\n",
    "import numpy as np"
   ]
  },
  {
   "cell_type": "code",
   "execution_count": 43,
   "metadata": {},
   "outputs": [],
   "source": [
    "def isPrime(M):\n",
    "    pf = True\n",
    "    \n",
    "    if(M <= 1):\n",
    "        pf = False\n",
    "\n",
    "    for k in range(2, M):\n",
    "        if M%k == 0:\n",
    "            pf = False\n",
    "    \n",
    "    return pf"
   ]
  },
  {
   "cell_type": "code",
   "execution_count": 44,
   "metadata": {},
   "outputs": [],
   "source": [
    "def isPrime2(M):\n",
    "    \n",
    "    if(M <= 1):\n",
    "        return False\n",
    "\n",
    "    for k in range(2, M):\n",
    "        if M%k == 0:\n",
    "            return False\n",
    "    \n",
    "    return True"
   ]
  },
  {
   "cell_type": "code",
   "execution_count": 51,
   "metadata": {},
   "outputs": [],
   "source": [
    "def isPrime3(M):\n",
    "    if M <= 1:\n",
    "        return False\n",
    "\n",
    "    if M == 2 :\n",
    "        return True\n",
    "    \n",
    "    if M%2 == 0 :\n",
    "        return False\n",
    "    \n",
    "    for k in range(2, int(M**0.5+1)):\n",
    "        if M%k == 0:\n",
    "            return False\n",
    "    \n",
    "    return True"
   ]
  },
  {
   "cell_type": "code",
   "execution_count": 7,
   "metadata": {},
   "outputs": [
    {
     "data": {
      "text/plain": [
       "True"
      ]
     },
     "execution_count": 7,
     "metadata": {},
     "output_type": "execute_result"
    }
   ],
   "source": [
    "isPrime(3)"
   ]
  },
  {
   "cell_type": "code",
   "execution_count": 27,
   "metadata": {},
   "outputs": [],
   "source": [
    "def isPrimeList(n):\n",
    "    primes = []\n",
    "    for m in range(1, n):\n",
    "        if isPrime(m):\n",
    "            primes += [m]\n",
    "    print(primes)"
   ]
  },
  {
   "cell_type": "code",
   "execution_count": 28,
   "metadata": {},
   "outputs": [
    {
     "name": "stdout",
     "output_type": "stream",
     "text": [
      "[2, 3, 5, 7, 11, 13, 17, 19, 23, 29, 31, 37, 41, 43, 47, 53, 59, 61, 67, 71, 73, 79, 83, 89, 97]\n"
     ]
    }
   ],
   "source": [
    "isPrimeList(100)"
   ]
  },
  {
   "cell_type": "code",
   "execution_count": 52,
   "metadata": {},
   "outputs": [],
   "source": [
    "import time\n",
    "\n",
    "def primeSpeedCheck(r):\n",
    "    elapsed = []\n",
    "    for n in r:\n",
    "        st = time.clock()\n",
    "        primes = []\n",
    "        for m in range(1, n):\n",
    "            if isPrime3(m):\n",
    "                primes += [m]\n",
    "        elapsed += [time.clock() - st]\n",
    "    return elapsed\n"
   ]
  },
  {
   "cell_type": "code",
   "execution_count": 40,
   "metadata": {},
   "outputs": [
    {
     "name": "stdout",
     "output_type": "stream",
     "text": [
      "range(1000, 10000, 1000)\n"
     ]
    }
   ],
   "source": [
    "Ns = range(1000, 10000, 1000)\n",
    "print(Ns)"
   ]
  },
  {
   "cell_type": "code",
   "execution_count": 49,
   "metadata": {},
   "outputs": [],
   "source": [
    "elapsed = primeSpeedCheck(Ns)"
   ]
  },
  {
   "cell_type": "code",
   "execution_count": 46,
   "metadata": {},
   "outputs": [],
   "source": [
    "elapsed2 = primeSpeedCheck(Ns)"
   ]
  },
  {
   "cell_type": "code",
   "execution_count": 53,
   "metadata": {},
   "outputs": [],
   "source": [
    "elapsed3 = primeSpeedCheck(Ns)"
   ]
  },
  {
   "cell_type": "code",
   "execution_count": 54,
   "metadata": {},
   "outputs": [
    {
     "data": {
      "text/plain": [
       "[<matplotlib.lines.Line2D at 0x10fee0160>]"
      ]
     },
     "execution_count": 54,
     "metadata": {},
     "output_type": "execute_result"
    },
    {
     "data": {
      "image/png": "[encoded data removed]",
      "text/plain": [
       "<Figure size 432x288 with 1 Axes>"
      ]
     },
     "metadata": {},
     "output_type": "display_data"
    }
   ],
   "source": [
    "plt.plot(Ns, elapsed)\n",
    "plt.plot(Ns, elapsed2)\n",
    "plt.plot(Ns, elapsed3)"
   ]
  },
  {
   "cell_type": "code",
   "execution_count": null,
   "metadata": {},
   "outputs": [],
   "source": []
  }
 ],
 "metadata": {
  "kernelspec": {
   "display_name": "Python 3",
   "language": "python",
   "name": "python3"
  },
  "language_info": {
   "codemirror_mode": {
    "name": "ipython",
    "version": 3
   },
   "file_extension": ".py",
   "mimetype": "text/x-python",
   "name": "python",
   "nbconvert_exporter": "python",
   "pygments_lexer": "ipython3",
   "version": "3.6.4"
  }
 },
 "nbformat": 4,
 "nbformat_minor": 2
}
